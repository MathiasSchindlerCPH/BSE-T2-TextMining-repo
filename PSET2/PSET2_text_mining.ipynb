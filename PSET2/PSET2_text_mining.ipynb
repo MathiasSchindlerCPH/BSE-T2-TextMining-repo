{
  "nbformat": 4,
  "nbformat_minor": 0,
  "metadata": {
    "colab": {
      "name": "PSET2-text-mining.ipynb",
      "provenance": [],
      "collapsed_sections": [],
      "authorship_tag": "ABX9TyOOhQSsHLQvDVSt5HMZpFUA",
      "include_colab_link": true
    },
    "kernelspec": {
      "name": "python3",
      "display_name": "Python 3"
    },
    "language_info": {
      "name": "python"
    }
  },
  "cells": [
    {
      "cell_type": "markdown",
      "metadata": {
        "id": "view-in-github",
        "colab_type": "text"
      },
      "source": [
        "<a href=\"https://colab.research.google.com/github/MathiasSchindlerCPH/BSE-T2-TextMining-repo/blob/main/PSET2_text_mining.ipynb\" target=\"_parent\"><img src=\"https://colab.research.google.com/assets/colab-badge.svg\" alt=\"Open In Colab\"/></a>"
      ]
    },
    {
      "cell_type": "markdown",
      "source": [
        "# **Problem Set 2**"
      ],
      "metadata": {
        "id": "lJodaQehOYVx"
      }
    },
    {
      "cell_type": "markdown",
      "source": [
        "Course: *Text Mining: Models and Algorithms*\n",
        "\n",
        "Submitted: Jan 21, 2022\n",
        "\n",
        "Student(s): Björn Komander, Mathias Schindler, Cristina Susanu, Simón Caicedo"
      ],
      "metadata": {
        "id": "orPf2bOhOjmn"
      }
    },
    {
      "cell_type": "markdown",
      "source": [
        "**Remember: Add column with 'political party' to our datasets!**"
      ],
      "metadata": {
        "id": "n6qpE-wUmyqA"
      }
    },
    {
      "cell_type": "markdown",
      "source": [
        "## **Preamble**"
      ],
      "metadata": {
        "id": "vIemZBXxO3ow"
      }
    },
    {
      "cell_type": "markdown",
      "source": [
        "Mount G Drive"
      ],
      "metadata": {
        "id": "G9mMwJr-MIw8"
      }
    },
    {
      "cell_type": "code",
      "execution_count": 2,
      "metadata": {
        "id": "ZmevT2riDcRJ",
        "colab": {
          "base_uri": "https://localhost:8080/"
        },
        "outputId": "0ca86f0a-2c50-44ce-8d3e-523746a0c0a2"
      },
      "outputs": [
        {
          "output_type": "stream",
          "name": "stdout",
          "text": [
            "Mounted at /content/drive\n"
          ]
        }
      ],
      "source": [
        "from google.colab import drive\n",
        "drive.mount('/content/drive')"
      ]
    },
    {
      "cell_type": "code",
      "source": [
        "import os\n",
        "os.chdir('/content/drive/My Drive/--T2-Text-Mining/PSET2')"
      ],
      "metadata": {
        "id": "nfE-rne8Eikw"
      },
      "execution_count": 3,
      "outputs": []
    },
    {
      "cell_type": "markdown",
      "source": [
        "Load packages"
      ],
      "metadata": {
        "id": "b5r-LYscML7Q"
      }
    },
    {
      "cell_type": "code",
      "source": [
        "!pip install twarc"
      ],
      "metadata": {
        "colab": {
          "base_uri": "https://localhost:8080/"
        },
        "id": "oTqHtSBJk3w8",
        "outputId": "1b01c67f-9f1c-4c6d-8ab9-f5f2af890273"
      },
      "execution_count": 2,
      "outputs": [
        {
          "output_type": "stream",
          "name": "stdout",
          "text": [
            "Requirement already satisfied: twarc in /usr/local/lib/python3.7/dist-packages (2.8.3)\n",
            "Requirement already satisfied: click-plugins>=1 in /usr/local/lib/python3.7/dist-packages (from twarc) (1.1.1)\n",
            "Requirement already satisfied: python-dateutil>=2.8 in /usr/local/lib/python3.7/dist-packages (from twarc) (2.8.2)\n",
            "Requirement already satisfied: click-config-file>=0.6 in /usr/local/lib/python3.7/dist-packages (from twarc) (0.6.0)\n",
            "Requirement already satisfied: humanize>=3.9 in /usr/local/lib/python3.7/dist-packages (from twarc) (3.13.1)\n",
            "Requirement already satisfied: click<9,>=7 in /usr/local/lib/python3.7/dist-packages (from twarc) (7.1.2)\n",
            "Requirement already satisfied: tqdm>=4.62 in /usr/local/lib/python3.7/dist-packages (from twarc) (4.62.3)\n",
            "Requirement already satisfied: requests-oauthlib>=1.3 in /usr/local/lib/python3.7/dist-packages (from twarc) (1.3.0)\n",
            "Requirement already satisfied: configobj>=5.0.6 in /usr/local/lib/python3.7/dist-packages (from click-config-file>=0.6->twarc) (5.0.6)\n",
            "Requirement already satisfied: six in /usr/local/lib/python3.7/dist-packages (from configobj>=5.0.6->click-config-file>=0.6->twarc) (1.15.0)\n",
            "Requirement already satisfied: importlib-metadata in /usr/local/lib/python3.7/dist-packages (from humanize>=3.9->twarc) (4.10.0)\n",
            "Requirement already satisfied: requests>=2.0.0 in /usr/local/lib/python3.7/dist-packages (from requests-oauthlib>=1.3->twarc) (2.23.0)\n",
            "Requirement already satisfied: oauthlib>=3.0.0 in /usr/local/lib/python3.7/dist-packages (from requests-oauthlib>=1.3->twarc) (3.1.1)\n",
            "Requirement already satisfied: urllib3!=1.25.0,!=1.25.1,<1.26,>=1.21.1 in /usr/local/lib/python3.7/dist-packages (from requests>=2.0.0->requests-oauthlib>=1.3->twarc) (1.24.3)\n",
            "Requirement already satisfied: idna<3,>=2.5 in /usr/local/lib/python3.7/dist-packages (from requests>=2.0.0->requests-oauthlib>=1.3->twarc) (2.10)\n",
            "Requirement already satisfied: chardet<4,>=3.0.2 in /usr/local/lib/python3.7/dist-packages (from requests>=2.0.0->requests-oauthlib>=1.3->twarc) (3.0.4)\n",
            "Requirement already satisfied: certifi>=2017.4.17 in /usr/local/lib/python3.7/dist-packages (from requests>=2.0.0->requests-oauthlib>=1.3->twarc) (2021.10.8)\n",
            "Requirement already satisfied: typing-extensions>=3.6.4 in /usr/local/lib/python3.7/dist-packages (from importlib-metadata->humanize>=3.9->twarc) (3.10.0.2)\n",
            "Requirement already satisfied: zipp>=0.5 in /usr/local/lib/python3.7/dist-packages (from importlib-metadata->humanize>=3.9->twarc) (3.7.0)\n"
          ]
        }
      ]
    },
    {
      "cell_type": "code",
      "source": [
        "!pip install twarc_csv"
      ],
      "metadata": {
        "colab": {
          "base_uri": "https://localhost:8080/"
        },
        "id": "M585ET0SlSzg",
        "outputId": "d925f164-ba10-4a33-d61d-46741577fea1"
      },
      "execution_count": 1,
      "outputs": [
        {
          "output_type": "stream",
          "name": "stdout",
          "text": [
            "Requirement already satisfied: twarc_csv in /usr/local/lib/python3.7/dist-packages (0.5.1)\n",
            "Requirement already satisfied: twarc>=2.8.0 in /usr/local/lib/python3.7/dist-packages (from twarc_csv) (2.8.3)\n",
            "Requirement already satisfied: more-itertools>=8.7.0 in /usr/local/lib/python3.7/dist-packages (from twarc_csv) (8.12.0)\n",
            "Requirement already satisfied: pandas>=1.2.5 in /usr/local/lib/python3.7/dist-packages (from twarc_csv) (1.3.5)\n",
            "Requirement already satisfied: tqdm>=4.59.0 in /usr/local/lib/python3.7/dist-packages (from twarc_csv) (4.62.3)\n",
            "Requirement already satisfied: python-dateutil>=2.7.3 in /usr/local/lib/python3.7/dist-packages (from pandas>=1.2.5->twarc_csv) (2.8.2)\n",
            "Requirement already satisfied: pytz>=2017.3 in /usr/local/lib/python3.7/dist-packages (from pandas>=1.2.5->twarc_csv) (2018.9)\n",
            "Requirement already satisfied: numpy>=1.17.3 in /usr/local/lib/python3.7/dist-packages (from pandas>=1.2.5->twarc_csv) (1.19.5)\n",
            "Requirement already satisfied: six>=1.5 in /usr/local/lib/python3.7/dist-packages (from python-dateutil>=2.7.3->pandas>=1.2.5->twarc_csv) (1.15.0)\n",
            "Requirement already satisfied: click<9,>=7 in /usr/local/lib/python3.7/dist-packages (from twarc>=2.8.0->twarc_csv) (7.1.2)\n",
            "Requirement already satisfied: requests-oauthlib>=1.3 in /usr/local/lib/python3.7/dist-packages (from twarc>=2.8.0->twarc_csv) (1.3.0)\n",
            "Requirement already satisfied: humanize>=3.9 in /usr/local/lib/python3.7/dist-packages (from twarc>=2.8.0->twarc_csv) (3.13.1)\n",
            "Requirement already satisfied: click-config-file>=0.6 in /usr/local/lib/python3.7/dist-packages (from twarc>=2.8.0->twarc_csv) (0.6.0)\n",
            "Requirement already satisfied: click-plugins>=1 in /usr/local/lib/python3.7/dist-packages (from twarc>=2.8.0->twarc_csv) (1.1.1)\n",
            "Requirement already satisfied: configobj>=5.0.6 in /usr/local/lib/python3.7/dist-packages (from click-config-file>=0.6->twarc>=2.8.0->twarc_csv) (5.0.6)\n",
            "Requirement already satisfied: importlib-metadata in /usr/local/lib/python3.7/dist-packages (from humanize>=3.9->twarc>=2.8.0->twarc_csv) (4.10.0)\n",
            "Requirement already satisfied: oauthlib>=3.0.0 in /usr/local/lib/python3.7/dist-packages (from requests-oauthlib>=1.3->twarc>=2.8.0->twarc_csv) (3.1.1)\n",
            "Requirement already satisfied: requests>=2.0.0 in /usr/local/lib/python3.7/dist-packages (from requests-oauthlib>=1.3->twarc>=2.8.0->twarc_csv) (2.23.0)\n",
            "Requirement already satisfied: urllib3!=1.25.0,!=1.25.1,<1.26,>=1.21.1 in /usr/local/lib/python3.7/dist-packages (from requests>=2.0.0->requests-oauthlib>=1.3->twarc>=2.8.0->twarc_csv) (1.24.3)\n",
            "Requirement already satisfied: chardet<4,>=3.0.2 in /usr/local/lib/python3.7/dist-packages (from requests>=2.0.0->requests-oauthlib>=1.3->twarc>=2.8.0->twarc_csv) (3.0.4)\n",
            "Requirement already satisfied: certifi>=2017.4.17 in /usr/local/lib/python3.7/dist-packages (from requests>=2.0.0->requests-oauthlib>=1.3->twarc>=2.8.0->twarc_csv) (2021.10.8)\n",
            "Requirement already satisfied: idna<3,>=2.5 in /usr/local/lib/python3.7/dist-packages (from requests>=2.0.0->requests-oauthlib>=1.3->twarc>=2.8.0->twarc_csv) (2.10)\n",
            "Requirement already satisfied: typing-extensions>=3.6.4 in /usr/local/lib/python3.7/dist-packages (from importlib-metadata->humanize>=3.9->twarc>=2.8.0->twarc_csv) (3.10.0.2)\n",
            "Requirement already satisfied: zipp>=0.5 in /usr/local/lib/python3.7/dist-packages (from importlib-metadata->humanize>=3.9->twarc>=2.8.0->twarc_csv) (3.7.0)\n"
          ]
        }
      ]
    },
    {
      "cell_type": "code",
      "source": [
        "import pandas as pd\n",
        "import json\n",
        "from twarc_csv import DataFrameConverter\n",
        "from twarc.expansions import ensure_flattened\n",
        "import pandas as pd\n",
        "from twarc_csv import dataframe_converter\n",
        "from twarc_csv import CSVConverter, DataFrameConverter"
      ],
      "metadata": {
        "id": "mLEVOc5BFhX1"
      },
      "execution_count": 4,
      "outputs": []
    },
    {
      "cell_type": "markdown",
      "source": [
        "# First Attempt to Convert `.json` to `.csv`"
      ],
      "metadata": {
        "id": "SUMzZ0BxmkUf"
      }
    },
    {
      "cell_type": "code",
      "source": [
        "df2018 = pd.read_json('tweets2018.json', lines=True)\n",
        "df2018.to_csv(\"df2018.csv\") #<- saves .csv in G Drive to load in R\n",
        "print(df2018)"
      ],
      "metadata": {
        "colab": {
          "base_uri": "https://localhost:8080/"
        },
        "id": "B_cWsz_MFY4f",
        "outputId": "ee01cda0-f450-4863-ae55-687a42e39c59"
      },
      "execution_count": 5,
      "outputs": [
        {
          "output_type": "stream",
          "name": "stdout",
          "text": [
            "                                                  data  ...                                             errors\n",
            "0    [{'source': 'Twitter for iPhone', 'conversatio...  ...                                                NaN\n",
            "1    [{'entities': {'hashtags': [{'start': 0, 'end'...  ...                                                NaN\n",
            "2    [{'lang': 'es', 'text': 'RT @CEJ_JUSTICIA: En ...  ...                                                NaN\n",
            "3    [{'entities': {'mentions': [{'start': 87, 'end...  ...  [{'parameter': 'entities.mentions.username', '...\n",
            "4    [{'reply_settings': 'everyone', 'created_at': ...  ...                                                NaN\n",
            "..                                                 ...  ...                                                ...\n",
            "158  [{'entities': {'urls': [{'start': 42, 'end': 6...  ...                                                NaN\n",
            "159  [{'attachments': {'media_keys': ['7_1002688768...  ...                                                NaN\n",
            "160  [{'entities': {'mentions': [{'start': 32, 'end...  ...                                                NaN\n",
            "161  [{'referenced_tweets': [{'type': 'replied_to',...  ...  [{'value': '1002267965469986818', 'detail': 'C...\n",
            "162  [{'entities': {'hashtags': [{'start': 231, 'en...  ...  [{'parameter': 'in_reply_to_user_id', 'resourc...\n",
            "\n",
            "[163 rows x 5 columns]\n"
          ]
        }
      ]
    },
    {
      "cell_type": "code",
      "source": [
        "df2017 = pd.read_json('tweets2017.json', lines=True)\n",
        "df2017.to_csv(\"df2017.csv\") #<- saves .csv in G Drive to load in R\n",
        "print(df2017)"
      ],
      "metadata": {
        "colab": {
          "base_uri": "https://localhost:8080/"
        },
        "id": "DR68u4r_GD8f",
        "outputId": "060a8603-e58e-43dc-effc-757384be5e98"
      },
      "execution_count": 6,
      "outputs": [
        {
          "output_type": "stream",
          "name": "stdout",
          "text": [
            "                                                  data  ...                                            __twarc\n",
            "0    [{'id': '870765471573954561', 'text': 'Felicit...  ...  {'url': 'https://api.twitter.com/2/tweets/sear...\n",
            "1    [{'possibly_sensitive': False, 'entities': {'a...  ...  {'url': 'https://api.twitter.com/2/tweets/sear...\n",
            "2    [{'lang': 'es', 'text': 'Se ha intensificado l...  ...  {'url': 'https://api.twitter.com/2/tweets/sear...\n",
            "3    [{'referenced_tweets': [{'type': 'retweeted', ...  ...  {'url': 'https://api.twitter.com/2/tweets/sear...\n",
            "4    [{'id': '866803560901685250', 'entities': {'me...  ...  {'url': 'https://api.twitter.com/2/tweets/sear...\n",
            "..                                                 ...  ...                                                ...\n",
            "109  [{'referenced_tweets': [{'type': 'retweeted', ...  ...  {'url': 'https://api.twitter.com/2/tweets/sear...\n",
            "110  [{'possibly_sensitive': False, 'source': 'Twit...  ...  {'url': 'https://api.twitter.com/2/tweets/sear...\n",
            "111  [{'lang': 'es', 'entities': {'hashtags': [{'st...  ...  {'url': 'https://api.twitter.com/2/tweets/sear...\n",
            "112  [{'lang': 'es', 'possibly_sensitive': False, '...  ...  {'url': 'https://api.twitter.com/2/tweets/sear...\n",
            "113  [{'text': 'Este caso es incomprensible! https:...  ...  {'url': 'https://api.twitter.com/2/tweets/sear...\n",
            "\n",
            "[114 rows x 5 columns]\n"
          ]
        }
      ]
    },
    {
      "cell_type": "markdown",
      "source": [
        "# Convert `.json` with Luis' Code"
      ],
      "metadata": {
        "id": "jb1G4_hFmqWU"
      }
    },
    {
      "cell_type": "markdown",
      "source": [
        "Convert `.json`-files to pandas dataframes using Luis' code"
      ],
      "metadata": {
        "id": "rzgJ6EXHO7SW"
      }
    },
    {
      "cell_type": "code",
      "source": [
        "converter = DataFrameConverter()\n",
        "\n",
        "for data_json in [\"tweets2017\", \"tweets2018\"]:\n",
        "    data = []\n",
        "    with open(data_json + \".json\") as f:\n",
        "        for line in f:\n",
        "            data.append(json.loads(line))\n",
        "    vars()[data_json] = converter.process(data)"
      ],
      "metadata": {
        "id": "RJ_51Vk2ltlP"
      },
      "execution_count": 11,
      "outputs": []
    },
    {
      "cell_type": "markdown",
      "source": [
        "Try Luis' `hash_retrieve`-function"
      ],
      "metadata": {
        "id": "9k7-LpYtmaqO"
      }
    },
    {
      "cell_type": "code",
      "source": [
        "def hash_retrieve(df):\n",
        "    \"\"\"\n",
        "    df : dataframe of tweets\n",
        "    Description: \n",
        "        The function takes as an object a df of tweets obtained via twarc and \n",
        "        returns a generator object.\n",
        "    \n",
        "    \"\"\"\n",
        "    for line, id in zip(df['entities.hashtags'], df['id']):\n",
        "        if pd.isna(line):\n",
        "            continue\n",
        "        line = line.strip()\n",
        "        data = json.loads(line)\n",
        "        for hashtag in ensure_flattened(data):\n",
        "            #print(hashtag['tag'],id)\n",
        "            yield [hashtag['tag'], id]"
      ],
      "metadata": {
        "id": "jgk1ULw2L8pF"
      },
      "execution_count": 7,
      "outputs": []
    },
    {
      "cell_type": "code",
      "source": [
        "#hash_retrieve(df2017)\n",
        "# Using the generator to create a new dataframe.\n",
        "a2017 = pd.DataFrame(list(hash_retrieve(tweets2017)),\n",
        "                columns=['hashtag', 'id'])\n",
        "a2018 = pd.DataFrame(list(hash_retrieve(tweets2018)),\n",
        "                 columns=['hashtag', 'id'])\n",
        "print(a2017); print(a2018)"
      ],
      "metadata": {
        "colab": {
          "base_uri": "https://localhost:8080/"
        },
        "id": "pipvcHlIMlzD",
        "outputId": "f41e055e-7114-4ec2-a50c-57094cb113c0"
      },
      "execution_count": 15,
      "outputs": [
        {
          "output_type": "stream",
          "name": "stdout",
          "text": [
            "                       hashtag                  id\n",
            "0     RecuperaciónDeLaEconomía  870654978469367808\n",
            "1           Presidenciales2018  870654978469367808\n",
            "2     RecuperacionDeLaEconomía  870481396317528064\n",
            "3     RecuperaciónDeLaEconomía  870438369771302912\n",
            "4     RecuperaciónDeLaEconomía  870437325242855425\n",
            "...                        ...                 ...\n",
            "3651                    AlAire  866712511499948033\n",
            "3652                  Medellin  866712511499948033\n",
            "3653         orgullocolombiano  868497950917439488\n",
            "3654             debercumplido  868492220181221376\n",
            "3655         OrgulloColombiano  866391111203475458\n",
            "\n",
            "[3656 rows x 2 columns]\n",
            "                     hashtag                   id\n",
            "0                     Bogotá  1003039823416963077\n",
            "1          ElFuturoEsDeTodos  1003039823416963077\n",
            "2          ElFuturoEsDeTodos  1003017161047183360\n",
            "3                     Bogotá  1003013212059684864\n",
            "4          ElFuturoEsDeTodos  1003013212059684864\n",
            "...                      ...                  ...\n",
            "9890  VargasLlerasPresidente   998335047760478211\n",
            "9891               Venezuela   998301274864078849\n",
            "9892                     20M   998284659451727872\n",
            "9893               Venezuela   998284659451727872\n",
            "9894   JusticiaParaVenezuela   998284659451727872\n",
            "\n",
            "[9895 rows x 2 columns]\n"
          ]
        }
      ]
    }
  ]
}