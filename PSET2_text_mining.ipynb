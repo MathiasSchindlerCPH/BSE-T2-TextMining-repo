{
  "nbformat": 4,
  "nbformat_minor": 0,
  "metadata": {
    "colab": {
      "name": "PSET2-text-mining.ipynb",
      "provenance": [],
      "collapsed_sections": [],
      "authorship_tag": "ABX9TyNzs85p7pPGRnwz7eAJhRoT",
      "include_colab_link": true
    },
    "kernelspec": {
      "name": "python3",
      "display_name": "Python 3"
    },
    "language_info": {
      "name": "python"
    }
  },
  "cells": [
    {
      "cell_type": "markdown",
      "metadata": {
        "id": "view-in-github",
        "colab_type": "text"
      },
      "source": [
        "<a href=\"https://colab.research.google.com/github/MathiasSchindlerCPH/BSE-T2-TextMining-repo/blob/main/PSET2_text_mining.ipynb\" target=\"_parent\"><img src=\"https://colab.research.google.com/assets/colab-badge.svg\" alt=\"Open In Colab\"/></a>"
      ]
    },
    {
      "cell_type": "markdown",
      "source": [
        "Mount G Drive"
      ],
      "metadata": {
        "id": "G9mMwJr-MIw8"
      }
    },
    {
      "cell_type": "code",
      "execution_count": 1,
      "metadata": {
        "id": "ZmevT2riDcRJ",
        "colab": {
          "base_uri": "https://localhost:8080/"
        },
        "outputId": "65d90c8b-7e06-4eac-d969-beef74f94989"
      },
      "outputs": [
        {
          "output_type": "stream",
          "name": "stdout",
          "text": [
            "Mounted at /content/drive\n"
          ]
        }
      ],
      "source": [
        "from google.colab import drive\n",
        "drive.mount('/content/drive')"
      ]
    },
    {
      "cell_type": "code",
      "source": [
        "import os\n",
        "os.chdir('/content/drive/My Drive/--T2-Text-Mining/PSET2')"
      ],
      "metadata": {
        "id": "nfE-rne8Eikw"
      },
      "execution_count": 2,
      "outputs": []
    },
    {
      "cell_type": "markdown",
      "source": [
        "Load packages"
      ],
      "metadata": {
        "id": "b5r-LYscML7Q"
      }
    },
    {
      "cell_type": "code",
      "source": [
        "import pandas as pd\n",
        "import json\n",
        "from twarc_csv import DataFrameConverter\n",
        "from twarc.expansions import ensure_flattened\n",
        "import pandas as pd\n",
        "from twarc_csv import dataframe_converter\n",
        "from twarc_csv import CSVConverter, DataFrameConverter"
      ],
      "metadata": {
        "id": "mLEVOc5BFhX1"
      },
      "execution_count": 3,
      "outputs": []
    },
    {
      "cell_type": "markdown",
      "source": [
        "Convert `.json`-file to `.csv` for easier handling"
      ],
      "metadata": {
        "id": "6fohRpVoMNE0"
      }
    },
    {
      "cell_type": "code",
      "source": [
        "df2018 = pd.read_json('tweets2018.json', lines=True)\n",
        "df2018.to_csv(\"df2018.csv\") #<- saves .csv in G Drive to load in R\n",
        "print(df2018)"
      ],
      "metadata": {
        "colab": {
          "base_uri": "https://localhost:8080/"
        },
        "id": "B_cWsz_MFY4f",
        "outputId": "fd604200-dd11-4971-a430-9eb89da46b38"
      },
      "execution_count": 4,
      "outputs": [
        {
          "output_type": "stream",
          "name": "stdout",
          "text": [
            "                                                  data  ...                                             errors\n",
            "0    [{'source': 'Twitter for iPhone', 'conversatio...  ...                                                NaN\n",
            "1    [{'entities': {'hashtags': [{'start': 0, 'end'...  ...                                                NaN\n",
            "2    [{'lang': 'es', 'text': 'RT @CEJ_JUSTICIA: En ...  ...                                                NaN\n",
            "3    [{'entities': {'mentions': [{'start': 87, 'end...  ...  [{'parameter': 'entities.mentions.username', '...\n",
            "4    [{'reply_settings': 'everyone', 'created_at': ...  ...                                                NaN\n",
            "..                                                 ...  ...                                                ...\n",
            "158  [{'entities': {'urls': [{'start': 42, 'end': 6...  ...                                                NaN\n",
            "159  [{'attachments': {'media_keys': ['7_1002688768...  ...                                                NaN\n",
            "160  [{'entities': {'mentions': [{'start': 32, 'end...  ...                                                NaN\n",
            "161  [{'referenced_tweets': [{'type': 'replied_to',...  ...  [{'value': '1002267965469986818', 'detail': 'C...\n",
            "162  [{'entities': {'hashtags': [{'start': 231, 'en...  ...  [{'parameter': 'in_reply_to_user_id', 'resourc...\n",
            "\n",
            "[163 rows x 5 columns]\n"
          ]
        }
      ]
    },
    {
      "cell_type": "code",
      "source": [
        "df2017 = pd.read_json('tweets2017.json', lines=True)\n",
        "df2017.to_csv(\"df2017.csv\") #<- saves .csv in G Drive to load in R\n",
        "print(df2017)"
      ],
      "metadata": {
        "colab": {
          "base_uri": "https://localhost:8080/"
        },
        "id": "DR68u4r_GD8f",
        "outputId": "e2df816d-18d8-4ea6-ad94-9571cc225b56"
      },
      "execution_count": 5,
      "outputs": [
        {
          "output_type": "stream",
          "name": "stdout",
          "text": [
            "                                                  data  ...                                            __twarc\n",
            "0    [{'id': '870765471573954561', 'text': 'Felicit...  ...  {'url': 'https://api.twitter.com/2/tweets/sear...\n",
            "1    [{'possibly_sensitive': False, 'entities': {'a...  ...  {'url': 'https://api.twitter.com/2/tweets/sear...\n",
            "2    [{'lang': 'es', 'text': 'Se ha intensificado l...  ...  {'url': 'https://api.twitter.com/2/tweets/sear...\n",
            "3    [{'referenced_tweets': [{'type': 'retweeted', ...  ...  {'url': 'https://api.twitter.com/2/tweets/sear...\n",
            "4    [{'id': '866803560901685250', 'entities': {'me...  ...  {'url': 'https://api.twitter.com/2/tweets/sear...\n",
            "..                                                 ...  ...                                                ...\n",
            "109  [{'referenced_tweets': [{'type': 'retweeted', ...  ...  {'url': 'https://api.twitter.com/2/tweets/sear...\n",
            "110  [{'possibly_sensitive': False, 'source': 'Twit...  ...  {'url': 'https://api.twitter.com/2/tweets/sear...\n",
            "111  [{'lang': 'es', 'entities': {'hashtags': [{'st...  ...  {'url': 'https://api.twitter.com/2/tweets/sear...\n",
            "112  [{'lang': 'es', 'possibly_sensitive': False, '...  ...  {'url': 'https://api.twitter.com/2/tweets/sear...\n",
            "113  [{'text': 'Este caso es incomprensible! https:...  ...  {'url': 'https://api.twitter.com/2/tweets/sear...\n",
            "\n",
            "[114 rows x 5 columns]\n"
          ]
        }
      ]
    },
    {
      "cell_type": "code",
      "source": [
        "def hash_retrieve(df):\n",
        "    \"\"\"\n",
        "    df : dataframe of tweets\n",
        "    Description: \n",
        "        The function takes as an object a df of tweets obtained via twarc and \n",
        "        returns a generator object.\n",
        "    \n",
        "    \"\"\"\n",
        "    for line, id in zip(df['entities.hashtags'], df['id']):\n",
        "        if pd.isna(line):\n",
        "            continue\n",
        "        line = line.strip()\n",
        "        data = json.loads(line)\n",
        "        for hashtag in ensure_flattened(data):\n",
        "            #print(hashtag['tag'],id)\n",
        "            yield [hashtag['tag'], id]"
      ],
      "metadata": {
        "id": "jgk1ULw2L8pF"
      },
      "execution_count": 7,
      "outputs": []
    },
    {
      "cell_type": "code",
      "source": [
        "hash_retrieve(df2017)\n",
        "# Using the generator to create a new dataframe.\n",
        "a = pd.DataFrame(list(hash_retrieve(df2017)),\n",
        "                columns=['hashtag', 'id'])\n",
        "a"
      ],
      "metadata": {
        "colab": {
          "base_uri": "https://localhost:8080/",
          "height": 562
        },
        "id": "pipvcHlIMlzD",
        "outputId": "70e972cc-1811-4f5e-9e8d-074d128d7e9c"
      },
      "execution_count": 9,
      "outputs": [
        {
          "output_type": "error",
          "ename": "KeyError",
          "evalue": "ignored",
          "traceback": [
            "\u001b[0;31m---------------------------------------------------------------------------\u001b[0m",
            "\u001b[0;31mKeyError\u001b[0m                                  Traceback (most recent call last)",
            "\u001b[0;32m/usr/local/lib/python3.7/dist-packages/pandas/core/indexes/base.py\u001b[0m in \u001b[0;36mget_loc\u001b[0;34m(self, key, method, tolerance)\u001b[0m\n\u001b[1;32m   2897\u001b[0m             \u001b[0;32mtry\u001b[0m\u001b[0;34m:\u001b[0m\u001b[0;34m\u001b[0m\u001b[0;34m\u001b[0m\u001b[0m\n\u001b[0;32m-> 2898\u001b[0;31m                 \u001b[0;32mreturn\u001b[0m \u001b[0mself\u001b[0m\u001b[0;34m.\u001b[0m\u001b[0m_engine\u001b[0m\u001b[0;34m.\u001b[0m\u001b[0mget_loc\u001b[0m\u001b[0;34m(\u001b[0m\u001b[0mcasted_key\u001b[0m\u001b[0;34m)\u001b[0m\u001b[0;34m\u001b[0m\u001b[0;34m\u001b[0m\u001b[0m\n\u001b[0m\u001b[1;32m   2899\u001b[0m             \u001b[0;32mexcept\u001b[0m \u001b[0mKeyError\u001b[0m \u001b[0;32mas\u001b[0m \u001b[0merr\u001b[0m\u001b[0;34m:\u001b[0m\u001b[0;34m\u001b[0m\u001b[0;34m\u001b[0m\u001b[0m\n",
            "\u001b[0;32mpandas/_libs/index.pyx\u001b[0m in \u001b[0;36mpandas._libs.index.IndexEngine.get_loc\u001b[0;34m()\u001b[0m\n",
            "\u001b[0;32mpandas/_libs/index.pyx\u001b[0m in \u001b[0;36mpandas._libs.index.IndexEngine.get_loc\u001b[0;34m()\u001b[0m\n",
            "\u001b[0;32mpandas/_libs/hashtable_class_helper.pxi\u001b[0m in \u001b[0;36mpandas._libs.hashtable.PyObjectHashTable.get_item\u001b[0;34m()\u001b[0m\n",
            "\u001b[0;32mpandas/_libs/hashtable_class_helper.pxi\u001b[0m in \u001b[0;36mpandas._libs.hashtable.PyObjectHashTable.get_item\u001b[0;34m()\u001b[0m\n",
            "\u001b[0;31mKeyError\u001b[0m: 'entities.hashtags'",
            "\nThe above exception was the direct cause of the following exception:\n",
            "\u001b[0;31mKeyError\u001b[0m                                  Traceback (most recent call last)",
            "\u001b[0;32m<ipython-input-9-6b4281a02abc>\u001b[0m in \u001b[0;36m<module>\u001b[0;34m()\u001b[0m\n\u001b[1;32m      1\u001b[0m \u001b[0mhash_retrieve\u001b[0m\u001b[0;34m(\u001b[0m\u001b[0mdf2017\u001b[0m\u001b[0;34m)\u001b[0m\u001b[0;34m\u001b[0m\u001b[0;34m\u001b[0m\u001b[0m\n\u001b[1;32m      2\u001b[0m \u001b[0;31m# Using the generator to create a new dataframe.\u001b[0m\u001b[0;34m\u001b[0m\u001b[0;34m\u001b[0m\u001b[0;34m\u001b[0m\u001b[0m\n\u001b[0;32m----> 3\u001b[0;31m a = pd.DataFrame(list(hash_retrieve(df2017)),\n\u001b[0m\u001b[1;32m      4\u001b[0m                 columns=['hashtag', 'id'])\n\u001b[1;32m      5\u001b[0m \u001b[0ma\u001b[0m\u001b[0;34m\u001b[0m\u001b[0;34m\u001b[0m\u001b[0m\n",
            "\u001b[0;32m<ipython-input-7-8fedcdc79a53>\u001b[0m in \u001b[0;36mhash_retrieve\u001b[0;34m(df)\u001b[0m\n\u001b[1;32m      8\u001b[0m     \"\"\"\n\u001b[1;32m      9\u001b[0m \u001b[0;34m\u001b[0m\u001b[0m\n\u001b[0;32m---> 10\u001b[0;31m     \u001b[0;32mfor\u001b[0m \u001b[0mline\u001b[0m\u001b[0;34m,\u001b[0m \u001b[0mid\u001b[0m \u001b[0;32min\u001b[0m \u001b[0mzip\u001b[0m\u001b[0;34m(\u001b[0m\u001b[0mdf\u001b[0m\u001b[0;34m[\u001b[0m\u001b[0;34m'entities.hashtags'\u001b[0m\u001b[0;34m]\u001b[0m\u001b[0;34m,\u001b[0m \u001b[0mdf\u001b[0m\u001b[0;34m[\u001b[0m\u001b[0;34m'id'\u001b[0m\u001b[0;34m]\u001b[0m\u001b[0;34m)\u001b[0m\u001b[0;34m:\u001b[0m\u001b[0;34m\u001b[0m\u001b[0;34m\u001b[0m\u001b[0m\n\u001b[0m\u001b[1;32m     11\u001b[0m         \u001b[0;32mif\u001b[0m \u001b[0mpd\u001b[0m\u001b[0;34m.\u001b[0m\u001b[0misna\u001b[0m\u001b[0;34m(\u001b[0m\u001b[0mline\u001b[0m\u001b[0;34m)\u001b[0m\u001b[0;34m:\u001b[0m\u001b[0;34m\u001b[0m\u001b[0;34m\u001b[0m\u001b[0m\n\u001b[1;32m     12\u001b[0m             \u001b[0;32mcontinue\u001b[0m\u001b[0;34m\u001b[0m\u001b[0;34m\u001b[0m\u001b[0m\n",
            "\u001b[0;32m/usr/local/lib/python3.7/dist-packages/pandas/core/frame.py\u001b[0m in \u001b[0;36m__getitem__\u001b[0;34m(self, key)\u001b[0m\n\u001b[1;32m   2904\u001b[0m             \u001b[0;32mif\u001b[0m \u001b[0mself\u001b[0m\u001b[0;34m.\u001b[0m\u001b[0mcolumns\u001b[0m\u001b[0;34m.\u001b[0m\u001b[0mnlevels\u001b[0m \u001b[0;34m>\u001b[0m \u001b[0;36m1\u001b[0m\u001b[0;34m:\u001b[0m\u001b[0;34m\u001b[0m\u001b[0;34m\u001b[0m\u001b[0m\n\u001b[1;32m   2905\u001b[0m                 \u001b[0;32mreturn\u001b[0m \u001b[0mself\u001b[0m\u001b[0;34m.\u001b[0m\u001b[0m_getitem_multilevel\u001b[0m\u001b[0;34m(\u001b[0m\u001b[0mkey\u001b[0m\u001b[0;34m)\u001b[0m\u001b[0;34m\u001b[0m\u001b[0;34m\u001b[0m\u001b[0m\n\u001b[0;32m-> 2906\u001b[0;31m             \u001b[0mindexer\u001b[0m \u001b[0;34m=\u001b[0m \u001b[0mself\u001b[0m\u001b[0;34m.\u001b[0m\u001b[0mcolumns\u001b[0m\u001b[0;34m.\u001b[0m\u001b[0mget_loc\u001b[0m\u001b[0;34m(\u001b[0m\u001b[0mkey\u001b[0m\u001b[0;34m)\u001b[0m\u001b[0;34m\u001b[0m\u001b[0;34m\u001b[0m\u001b[0m\n\u001b[0m\u001b[1;32m   2907\u001b[0m             \u001b[0;32mif\u001b[0m \u001b[0mis_integer\u001b[0m\u001b[0;34m(\u001b[0m\u001b[0mindexer\u001b[0m\u001b[0;34m)\u001b[0m\u001b[0;34m:\u001b[0m\u001b[0;34m\u001b[0m\u001b[0;34m\u001b[0m\u001b[0m\n\u001b[1;32m   2908\u001b[0m                 \u001b[0mindexer\u001b[0m \u001b[0;34m=\u001b[0m \u001b[0;34m[\u001b[0m\u001b[0mindexer\u001b[0m\u001b[0;34m]\u001b[0m\u001b[0;34m\u001b[0m\u001b[0;34m\u001b[0m\u001b[0m\n",
            "\u001b[0;32m/usr/local/lib/python3.7/dist-packages/pandas/core/indexes/base.py\u001b[0m in \u001b[0;36mget_loc\u001b[0;34m(self, key, method, tolerance)\u001b[0m\n\u001b[1;32m   2898\u001b[0m                 \u001b[0;32mreturn\u001b[0m \u001b[0mself\u001b[0m\u001b[0;34m.\u001b[0m\u001b[0m_engine\u001b[0m\u001b[0;34m.\u001b[0m\u001b[0mget_loc\u001b[0m\u001b[0;34m(\u001b[0m\u001b[0mcasted_key\u001b[0m\u001b[0;34m)\u001b[0m\u001b[0;34m\u001b[0m\u001b[0;34m\u001b[0m\u001b[0m\n\u001b[1;32m   2899\u001b[0m             \u001b[0;32mexcept\u001b[0m \u001b[0mKeyError\u001b[0m \u001b[0;32mas\u001b[0m \u001b[0merr\u001b[0m\u001b[0;34m:\u001b[0m\u001b[0;34m\u001b[0m\u001b[0;34m\u001b[0m\u001b[0m\n\u001b[0;32m-> 2900\u001b[0;31m                 \u001b[0;32mraise\u001b[0m \u001b[0mKeyError\u001b[0m\u001b[0;34m(\u001b[0m\u001b[0mkey\u001b[0m\u001b[0;34m)\u001b[0m \u001b[0;32mfrom\u001b[0m \u001b[0merr\u001b[0m\u001b[0;34m\u001b[0m\u001b[0;34m\u001b[0m\u001b[0m\n\u001b[0m\u001b[1;32m   2901\u001b[0m \u001b[0;34m\u001b[0m\u001b[0m\n\u001b[1;32m   2902\u001b[0m         \u001b[0;32mif\u001b[0m \u001b[0mtolerance\u001b[0m \u001b[0;32mis\u001b[0m \u001b[0;32mnot\u001b[0m \u001b[0;32mNone\u001b[0m\u001b[0;34m:\u001b[0m\u001b[0;34m\u001b[0m\u001b[0;34m\u001b[0m\u001b[0m\n",
            "\u001b[0;31mKeyError\u001b[0m: 'entities.hashtags'"
          ]
        }
      ]
    }
  ]
}